{
  "nbformat": 4,
  "nbformat_minor": 0,
  "metadata": {
    "colab": {
      "provenance": []
    },
    "kernelspec": {
      "name": "python3",
      "display_name": "Python 3"
    },
    "language_info": {
      "name": "python"
    }
  },
  "cells": [
    {
      "cell_type": "markdown",
      "source": [
        "# Auto-Roleplay\n",
        "\n",
        "In this simple notebook, we create a few agents that we will use to simulate a roleplay between different characters and a narrator!\n",
        "\n",
        "The concept is simple: Having a Game Master Agent that will decide whose turn it is, here for simplicity will be between a Narrator Agent or a Character Agent.\n",
        "\n",
        "Then the Narrator or Character will answer, and loop this cycle to infinity!\n",
        "\n",
        "## Agents\n",
        "You can create an Agent in https://console.mistral.ai/build/agents/new, for this notebook we will use `mistral-large-2407` as the model powering our agents!\n",
        "\n",
        "### Game Master\n",
        "The Game Master will be the one in charge of handling all the main decisions and creation of the characters. We want it to be deterministic and accurate mostly when deciding who should be the next to answer while respecting accurately the format required. Hence we will set a low `temperature of 0`.\n",
        "\n",
        "Here are the instructions provided to the agent:\n",
        "```\n",
        "You are a Game Master in charge of guiding a roleplaying story.\n",
        "You decide if the next step should be:\n",
        "- Narrator\n",
        "- Character\n",
        "\n",
        "If you decide it's the Narrator's turn, return \"Narrator\" with the following JSON:\n",
        "{{\n",
        "  \"choice\":\"Narrator\",\n",
        "}}\n",
        "If you decide it's a Character's or Creature's turn, return \"Character\". Followed by a description and name of the character/creature. You can either use a previous character/creature or introduce a new one. With the following JSON format:\n",
        "{{\n",
        "  \"choice\":\"Character\",\n",
        "  \"character_description\":\n",
        "  {{\n",
        "    \"name\":\"character's/creature's name\",\n",
        "    \"other\":\"information about the character/creature, personality, appearance, and other information\"\n",
        "  }},\n",
        "}}\n",
        "```\n",
        "\n",
        "### Narrator\n",
        "The Narrator, on the other hand, will be the one narrating our story and will have a more surface-level narration and guide the story. We want the story to be very pleasant and original, to add creativity randomness plays well here, hence we will set a high `temperature of 0.8`.\n",
        "\n",
        "Here are the instructions provided to the agent:\n",
        "```\n",
        "Your role is to narrate the roleplaying story. You only narrate, the narration must be between in **bold** with markdown. The narration should be short and fit in a single paragraph.\n",
        "```\n",
        "\n",
        "### Character\n",
        "Finally, our Character agent needs to be able to roleplay as any character given a description, while also following a specific desired format. While this might require a decent determinism, we also do not want it to be too monotone and repetitive, so a `temperature of 0.5` sounds good!\n",
        "\n",
        "Here are the instructions provided to the agent:\n",
        "```\n",
        "Your role is to roleplay as a character by respecting the JSON with the description and name.\n",
        "Answer always with the following format:\n",
        "**Actions and thoughts in bold.**\n",
        "- \"Dialogs followed by a hyphen and quotes\"\n",
        "```\n",
        "\n",
        "## Coding our workflow\n",
        "We can now make our Agents collaborate to harmoniously have a roleplaying simulation between agents."
      ],
      "metadata": {
        "id": "YlmHTLcZ5ozH"
      }
    },
    {
      "cell_type": "markdown",
      "source": [
        "### Install dependencies\n",
        "First we will install the python SDK and set our API key!"
      ],
      "metadata": {
        "id": "2WPqECEb9P49"
      }
    },
    {
      "cell_type": "code",
      "source": [
        "!pip install mistralai==1.0.0"
      ],
      "metadata": {
        "id": "-chu7epY5amr",
        "colab": {
          "base_uri": "https://localhost:8080/",
          "height": 878
        },
        "outputId": "229085d6-0580-4037-edc7-a96728065102"
      },
      "execution_count": null,
      "outputs": [
        {
          "output_type": "stream",
          "name": "stdout",
          "text": [
            "Collecting mistralai==1.0.0rc2\n",
            "  Downloading mistralai-1.0.0rc2-py3-none-any.whl.metadata (19 kB)\n",
            "Collecting httpx<0.28.0,>=0.27.0 (from mistralai==1.0.0rc2)\n",
            "  Downloading httpx-0.27.0-py3-none-any.whl.metadata (7.2 kB)\n",
            "Collecting jsonpath-python<2.0.0,>=1.0.6 (from mistralai==1.0.0rc2)\n",
            "  Downloading jsonpath_python-1.0.6-py3-none-any.whl.metadata (12 kB)\n",
            "Requirement already satisfied: pydantic<2.9.0,>=2.8.2 in /usr/local/lib/python3.10/dist-packages (from mistralai==1.0.0rc2) (2.8.2)\n",
            "Collecting python-dateutil<3.0.0,>=2.9.0.post0 (from mistralai==1.0.0rc2)\n",
            "  Downloading python_dateutil-2.9.0.post0-py2.py3-none-any.whl.metadata (8.4 kB)\n",
            "Collecting typing-inspect<0.10.0,>=0.9.0 (from mistralai==1.0.0rc2)\n",
            "  Downloading typing_inspect-0.9.0-py3-none-any.whl.metadata (1.5 kB)\n",
            "Requirement already satisfied: anyio in /usr/local/lib/python3.10/dist-packages (from httpx<0.28.0,>=0.27.0->mistralai==1.0.0rc2) (3.7.1)\n",
            "Requirement already satisfied: certifi in /usr/local/lib/python3.10/dist-packages (from httpx<0.28.0,>=0.27.0->mistralai==1.0.0rc2) (2024.7.4)\n",
            "Collecting httpcore==1.* (from httpx<0.28.0,>=0.27.0->mistralai==1.0.0rc2)\n",
            "  Downloading httpcore-1.0.5-py3-none-any.whl.metadata (20 kB)\n",
            "Requirement already satisfied: idna in /usr/local/lib/python3.10/dist-packages (from httpx<0.28.0,>=0.27.0->mistralai==1.0.0rc2) (3.7)\n",
            "Requirement already satisfied: sniffio in /usr/local/lib/python3.10/dist-packages (from httpx<0.28.0,>=0.27.0->mistralai==1.0.0rc2) (1.3.1)\n",
            "Collecting h11<0.15,>=0.13 (from httpcore==1.*->httpx<0.28.0,>=0.27.0->mistralai==1.0.0rc2)\n",
            "  Downloading h11-0.14.0-py3-none-any.whl.metadata (8.2 kB)\n",
            "Requirement already satisfied: annotated-types>=0.4.0 in /usr/local/lib/python3.10/dist-packages (from pydantic<2.9.0,>=2.8.2->mistralai==1.0.0rc2) (0.7.0)\n",
            "Requirement already satisfied: pydantic-core==2.20.1 in /usr/local/lib/python3.10/dist-packages (from pydantic<2.9.0,>=2.8.2->mistralai==1.0.0rc2) (2.20.1)\n",
            "Requirement already satisfied: typing-extensions>=4.6.1 in /usr/local/lib/python3.10/dist-packages (from pydantic<2.9.0,>=2.8.2->mistralai==1.0.0rc2) (4.12.2)\n",
            "Requirement already satisfied: six>=1.5 in /usr/local/lib/python3.10/dist-packages (from python-dateutil<3.0.0,>=2.9.0.post0->mistralai==1.0.0rc2) (1.16.0)\n",
            "Collecting mypy-extensions>=0.3.0 (from typing-inspect<0.10.0,>=0.9.0->mistralai==1.0.0rc2)\n",
            "  Downloading mypy_extensions-1.0.0-py3-none-any.whl.metadata (1.1 kB)\n",
            "Requirement already satisfied: exceptiongroup in /usr/local/lib/python3.10/dist-packages (from anyio->httpx<0.28.0,>=0.27.0->mistralai==1.0.0rc2) (1.2.2)\n",
            "Downloading mistralai-1.0.0rc2-py3-none-any.whl (214 kB)\n",
            "\u001b[2K   \u001b[90m━━━━━━━━━━━━━━━━━━━━━━━━━━━━━━━━━━━━━━━━\u001b[0m \u001b[32m214.8/214.8 kB\u001b[0m \u001b[31m5.3 MB/s\u001b[0m eta \u001b[36m0:00:00\u001b[0m\n",
            "\u001b[?25hDownloading httpx-0.27.0-py3-none-any.whl (75 kB)\n",
            "\u001b[2K   \u001b[90m━━━━━━━━━━━━━━━━━━━━━━━━━━━━━━━━━━━━━━━━\u001b[0m \u001b[32m75.6/75.6 kB\u001b[0m \u001b[31m4.0 MB/s\u001b[0m eta \u001b[36m0:00:00\u001b[0m\n",
            "\u001b[?25hDownloading httpcore-1.0.5-py3-none-any.whl (77 kB)\n",
            "\u001b[2K   \u001b[90m━━━━━━━━━━━━━━━━━━━━━━━━━━━━━━━━━━━━━━━━\u001b[0m \u001b[32m77.9/77.9 kB\u001b[0m \u001b[31m4.5 MB/s\u001b[0m eta \u001b[36m0:00:00\u001b[0m\n",
            "\u001b[?25hDownloading jsonpath_python-1.0.6-py3-none-any.whl (7.6 kB)\n",
            "Downloading python_dateutil-2.9.0.post0-py2.py3-none-any.whl (229 kB)\n",
            "\u001b[2K   \u001b[90m━━━━━━━━━━━━━━━━━━━━━━━━━━━━━━━━━━━━━━━━\u001b[0m \u001b[32m229.9/229.9 kB\u001b[0m \u001b[31m13.7 MB/s\u001b[0m eta \u001b[36m0:00:00\u001b[0m\n",
            "\u001b[?25hDownloading typing_inspect-0.9.0-py3-none-any.whl (8.8 kB)\n",
            "Downloading mypy_extensions-1.0.0-py3-none-any.whl (4.7 kB)\n",
            "Downloading h11-0.14.0-py3-none-any.whl (58 kB)\n",
            "\u001b[2K   \u001b[90m━━━━━━━━━━━━━━━━━━━━━━━━━━━━━━━━━━━━━━━━\u001b[0m \u001b[32m58.3/58.3 kB\u001b[0m \u001b[31m1.7 MB/s\u001b[0m eta \u001b[36m0:00:00\u001b[0m\n",
            "\u001b[?25hInstalling collected packages: python-dateutil, mypy-extensions, jsonpath-python, h11, typing-inspect, httpcore, httpx, mistralai\n",
            "  Attempting uninstall: python-dateutil\n",
            "    Found existing installation: python-dateutil 2.8.2\n",
            "    Uninstalling python-dateutil-2.8.2:\n",
            "      Successfully uninstalled python-dateutil-2.8.2\n",
            "Successfully installed h11-0.14.0 httpcore-1.0.5 httpx-0.27.0 jsonpath-python-1.0.6 mistralai-1.0.0rc2 mypy-extensions-1.0.0 python-dateutil-2.9.0.post0 typing-inspect-0.9.0\n"
          ]
        },
        {
          "output_type": "display_data",
          "data": {
            "application/vnd.colab-display-data+json": {
              "pip_warning": {
                "packages": [
                  "dateutil"
                ]
              },
              "id": "238560d97da24569aa344da51e285e6d"
            }
          },
          "metadata": {}
        }
      ]
    },
    {
      "cell_type": "code",
      "execution_count": null,
      "metadata": {
        "id": "ehtL3SHuj-9T"
      },
      "outputs": [],
      "source": [
        "from mistralai import Mistral\n",
        "client = Mistral(api_key=\"api_key\")"
      ]
    },
    {
      "cell_type": "markdown",
      "source": [
        "### Agents IDs\n",
        "Next, we will retrieve the Agents IDs from the UI where we created the agents."
      ],
      "metadata": {
        "id": "Hyt0IOip9cSP"
      }
    },
    {
      "cell_type": "code",
      "source": [
        "game_master_id = \"ag:8e2706f0:20240806:game-master:6d101f5a\"\n",
        "narrator_id = \"ag:8e2706f0:20240806:narrator:388b4fa8\"\n",
        "character_id = \"ag:8e2706f0:20240806:character:e5716606\""
      ],
      "metadata": {
        "id": "fJD4FN6a9lE1"
      },
      "execution_count": null,
      "outputs": []
    },
    {
      "cell_type": "markdown",
      "source": [
        "### Run the simulation"
      ],
      "metadata": {
        "id": "VTcQRpVPMWee"
      }
    },
    {
      "cell_type": "code",
      "source": [
        "import json\n",
        "\n",
        "plot = \"A fantasy story with different creatures and magic.\" # the main plot of the story\n",
        "messages = [{\"role\": \"user\", \"content\": plot}]\n",
        "\n",
        "for i in range(10): # simulate 10 messages\n",
        "\n",
        "  resp = client.agents.complete(agent_id=game_master_id, messages=messages, response_format={\"type\":\"json_object\"}) # the Game Master decides what to do\n",
        "  choice = json.loads(resp[\"choices\"][0][\"message\"][\"content\"])\n",
        "\n",
        "  match choice[\"choice\"]:\n",
        "    case \"Narrator\":\n",
        "      resp = client.agents.complete(agent_id=narrator_id, messages=messages)\n",
        "      messages.append({\"role\": \"assistant\", \"content\": resp[\"choices\"][0][\"message\"][\"content\"]})\n",
        "\n",
        "      print(\"Narrator:\", resp[\"choices\"][0][\"message\"][\"content\"])\n",
        "\n",
        "    case \"Character\":\n",
        "      messages[-1][\"content\"] += \"\\n\\n\" + json.dumps(choice[\"character_description\"]) # adds the character description made by the Game Master for the next interaction\n",
        "\n",
        "      resp = client.agents.complete(agent_id=character_id, messages=messages)\n",
        "      messages.append({\"role\": \"assistant\", \"content\": resp[\"choices\"][0][\"message\"][\"content\"]})\n",
        "\n",
        "      print(choice[\"character_description\"][\"name\"]+\":\",resp[\"choices\"][0][\"message\"][\"content\"])\n",
        "\n",
        "  messages = [{\"role\":\"user\" if m[\"role\"] == \"assistant\" else \"assistant\", \"content\": m[\"content\"]} for m in messages]"
      ],
      "metadata": {
        "id": "dKQVgM_wguzX"
      },
      "execution_count": null,
      "outputs": []
    }
  ]
}