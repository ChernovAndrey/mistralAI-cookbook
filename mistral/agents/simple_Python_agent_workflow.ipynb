{
  "nbformat": 4,
  "nbformat_minor": 0,
  "metadata": {
    "colab": {
      "provenance": []
    },
    "kernelspec": {
      "name": "python3",
      "display_name": "Python 3"
    },
    "language_info": {
      "name": "python"
    }
  },
  "cells": [
    {
      "cell_type": "markdown",
      "source": [
        "# Simple Python agent workflow\n",
        "\n",
        "Here is an example of a simple Python agent workflow using a Python agent with the following steps:\n",
        "\n",
        "1. User Query:\n",
        "\n",
        "The process starts when the user submits a query or request to the Python agent.\n",
        "\n",
        "2. Code and Test Case Generation:\n",
        "\n",
        "The agent interprets the user's query and generates the corresponding Python code. Alongside the code, the agent creates a test case to verify the functionality of the generated code.\n",
        "\n",
        "3. Execution and Validation:\n",
        "\n",
        "The agent attempts to run the generated code to ensure it executes without errors.\n",
        "The agent then runs the test case to confirm that the code produces the correct output.\n",
        "\n",
        "4. Retry Mechanism:\n",
        "\n",
        "If the code fails to run or the test case does not pass, the agent initiates a retry.\n",
        "It regenerates the code and test case, addressing any issues identified during the previous attempt.\n",
        "\n",
        "5. Result Output:\n",
        "\n",
        "Once the code runs successfully and passes the test case, the agent delivers the result to the user.\n",
        "\n",
        "\n",
        "## In summary:\n",
        "user query\n",
        "\n",
        "-> agent generate code and test case\n",
        "\n",
        "-> check if the code is runnable and the test is passed\n",
        "\n",
        "  -> if no, retry and regenerate\n",
        "\n",
        "  -> if yes output result\n",
        "\n"
      ],
      "metadata": {
        "id": "D_GgusGnIUaM"
      }
    },
    {
      "cell_type": "markdown",
      "source": [
        "## Install dependencies\n",
        "\n",
        "First we will install the python SDK and set our API key!"
      ],
      "metadata": {
        "id": "EuHgymvZQRfj"
      }
    },
    {
      "cell_type": "code",
      "source": [
        "!pip install mistralai==1.0.0"
      ],
      "metadata": {
        "id": "JfXG-CmrQTSW"
      },
      "execution_count": null,
      "outputs": []
    },
    {
      "cell_type": "code",
      "source": [
        "import os\n",
        "from mistralai import Mistral\n",
        "import re\n",
        "\n",
        "api_key = os.environ[\"MISTRAL_API_KEY\"]\n",
        "\n",
        "client = Mistral(api_key=api_key)"
      ],
      "metadata": {
        "id": "UTcv5cgYQWZd"
      },
      "execution_count": null,
      "outputs": []
    },
    {
      "cell_type": "markdown",
      "source": [
        "## Agent\n",
        "\n",
        "You can create an Agent in https://console.mistral.ai/build/agents/new, for this notebook we will use mistral-large-2407 as the model powering our agents!\n",
        "\n",
        "Here is the instruction provided to the Python agent we create:\n",
        "\n",
        "```\n",
        "You are a Python coding assistant that only outputs Python code without any explanations or comments.\n",
        "\n",
        "Return one Python function for the given query and one test case using assertion.\n",
        "\n",
        "Return Python code with two sections:\n",
        "\n",
        "## Python function\n",
        "\n",
        "## Test case\n",
        "\n",
        "  \"\"\"\n",
        "```\n",
        "\n",
        "After we create the agent, we will retrieve the Agents ID from the UI where we created the agent:\n",
        "\n"
      ],
      "metadata": {
        "id": "MyupUn2TMFOU"
      }
    },
    {
      "cell_type": "code",
      "source": [
        "agent_id= \"ag:04f796e4:20240731:python-assistant:734a5a78\""
      ],
      "metadata": {
        "id": "T2QjE0EzPN2x"
      },
      "execution_count": null,
      "outputs": []
    },
    {
      "cell_type": "markdown",
      "source": [
        "## Simple Python agent workflow\n",
        "\n",
        "Now we can write several functions `run_python_agent`, `extract_code`, `check_code`, and combine them in a `run_workflow` function."
      ],
      "metadata": {
        "id": "lPj6BEEYPYxp"
      }
    },
    {
      "cell_type": "code",
      "source": [
        "def run_python_agent(query):\n",
        "    \"\"\"\n",
        "    Sends a user query to a Python agent and returns the response.\n",
        "\n",
        "    Args:\n",
        "        query (str): The user query to be sent to the Python agent.\n",
        "\n",
        "    Returns:\n",
        "        str: The response content from the Python agent.\n",
        "    \"\"\"\n",
        "    print(\"### Run Python agent\")\n",
        "    print(f\"User query: {query}\")\n",
        "    try:\n",
        "        response = client.agents.completion(\n",
        "            agent_id= agent_id,\n",
        "            messages = [\n",
        "                {\n",
        "                    \"role\": \"user\",\n",
        "                    \"content\":  query\n",
        "                },\n",
        "            ]\n",
        "        )\n",
        "        result = response.json()['choices'][0]['message']['content']\n",
        "        return result\n",
        "    except Exception as e:\n",
        "        print(f\"Request failed: {e}. Please check your request.\")\n",
        "        return None\n",
        "\n",
        "def extract_pattern(text, pattern):\n",
        "    \"\"\"\n",
        "    Extracts a pattern from the given text.\n",
        "\n",
        "    Args:\n",
        "        text (str): The text to search within.\n",
        "        pattern (str): The regex pattern to search for.\n",
        "\n",
        "    Returns:\n",
        "        str: The extracted pattern or None if not found.\n",
        "    \"\"\"\n",
        "    match = re.search(pattern, text, flags=re.DOTALL)\n",
        "    if match:\n",
        "        return match.group(1).strip()\n",
        "    return None\n",
        "\n",
        "def extract_code(result):\n",
        "    \"\"\"\n",
        "    Extracts Python function and test case from the response content.\n",
        "\n",
        "    Args:\n",
        "        result (str): The response content from the Python agent.\n",
        "\n",
        "    Returns:\n",
        "        tuple: A tuple containing the extracted Python function, test function, and a retry flag.\n",
        "    \"\"\"\n",
        "    retry = False\n",
        "    print(\"### Extracting Python code\")\n",
        "    python_function = extract_pattern(result, r'## Python function(.*?)## Test case')\n",
        "    if not python_function:\n",
        "        retry = True\n",
        "        print(\"Python function failed to generate or wrong output format. Setting retry to True.\")\n",
        "\n",
        "    print(\"### Extracting test case\")\n",
        "    test_function = extract_pattern(result, r'## Test case(.*?)```')\n",
        "    if not test_function:\n",
        "        retry = True\n",
        "        print(\"Test function failed to generate or wrong output format. Setting retry to True.\")\n",
        "\n",
        "    return python_function, test_function, retry\n",
        "\n",
        "def check_code(python_function, test_function):\n",
        "    \"\"\"\n",
        "    Executes the Python function and its test case, and checks for any errors.\n",
        "\n",
        "    Args:\n",
        "        python_function (str): The Python function to be executed.\n",
        "        test_function (str): The test case to be executed.\n",
        "\n",
        "    Returns:\n",
        "        bool: A flag indicating whether the code execution needs to be retried.\n",
        "\n",
        "    Warning:\n",
        "        This code is designed to run code that’s been generated by a model, which may not be entirely reliable.\n",
        "        It's strongly recommended to run this in a sandbox environment.\n",
        "    \"\"\"\n",
        "    retry = False\n",
        "    try:\n",
        "        exec(python_function)\n",
        "        print(\"Code executed successfully.\")\n",
        "        try:\n",
        "            exec(test_function)\n",
        "            print(\"Code passed test case.\")\n",
        "        except Exception:\n",
        "            print(f\"Test failed\")\n",
        "            retry = True\n",
        "            print(\"Setting retry to True\")\n",
        "    except Exception:\n",
        "        print(f\"Code failed.\")\n",
        "        retry = True\n",
        "        print(\"Setting retry to True\")\n",
        "    return retry\n",
        "\n",
        "def run_workflow(query):\n",
        "    \"\"\"\n",
        "    Runs the complete workflow to generate, extract, and validate Python code.\n",
        "\n",
        "    Args:\n",
        "        query (str): The user query to be processed.\n",
        "    \"\"\"\n",
        "    print(\"### ENTER WORKFLOW\")\n",
        "    i = 0\n",
        "    max_retries = 3\n",
        "    retry = True # just to get it started\n",
        "    while i < max_retries and retry:\n",
        "        print(f\"TRY # {i}\")\n",
        "        i += 1\n",
        "        result = run_python_agent(query)\n",
        "        python_function, test_function, retry = extract_code(result)\n",
        "        retry = check_code(python_function, test_function)\n",
        "\n",
        "    if not retry:\n",
        "        print(f\"Validated Python function: ```{python_function}```\")\n",
        "    print(\"### EXIT WORKFLOW\")\n"
      ],
      "metadata": {
        "id": "Sy087IOjours"
      },
      "execution_count": null,
      "outputs": []
    },
    {
      "cell_type": "code",
      "source": [
        "run_workflow(\"How can I remove duplicates from a list\")"
      ],
      "metadata": {
        "colab": {
          "base_uri": "https://localhost:8080/"
        },
        "id": "LGH7jsX2mfyj",
        "outputId": "f1a157a4-2168-47ab-c698-b824aa2ad6b6"
      },
      "execution_count": null,
      "outputs": [
        {
          "output_type": "stream",
          "name": "stdout",
          "text": [
            "### ENTER WORKFLOW\n",
            "TRY # 0\n",
            "### Extracting Python code\n",
            "### Extracting test case\n",
            "Code executed successfully.\n",
            "Code passed test case.\n",
            "Validated Python function: ```def remove_duplicates(lst):\n",
            "    return list(set(lst))```\n",
            "### EXIT WORKFLOW\n"
          ]
        }
      ]
    },
    {
      "cell_type": "code",
      "source": [
        "run_workflow(\"How can I sort a list of words and add the word love to each of word \")"
      ],
      "metadata": {
        "colab": {
          "base_uri": "https://localhost:8080/"
        },
        "id": "utFqsK7vtqQ5",
        "outputId": "ecff7b59-b06d-4aff-911f-3ee74a18d297"
      },
      "execution_count": null,
      "outputs": [
        {
          "output_type": "stream",
          "name": "stdout",
          "text": [
            "### ENTER WORKFLOW\n",
            "TRY # 0\n",
            "### Extracting Python code\n",
            "### Extracting test case\n",
            "Code executed successfully.\n",
            "Code passed test case.\n",
            "Validated Python function: ```def sort_and_add_love(words):\n",
            "    sorted_words = sorted(words)\n",
            "    return [word + 'love' for word in sorted_words]```\n",
            "### EXIT WORKFLOW\n"
          ]
        }
      ]
    },
    {
      "cell_type": "code",
      "source": [
        "run_workflow(\"How can calculate fibinacci \")"
      ],
      "metadata": {
        "colab": {
          "base_uri": "https://localhost:8080/"
        },
        "id": "91TJK-zAurUN",
        "outputId": "8d8b1648-6a45-4bc4-bdff-0f144b48fb65"
      },
      "execution_count": null,
      "outputs": [
        {
          "output_type": "stream",
          "name": "stdout",
          "text": [
            "### ENTER WORKFLOW\n",
            "TRY # 0\n",
            "### Extracting Python code\n",
            "### Extracting test case\n",
            "Code executed successfully.\n",
            "Code passed test case.\n",
            "Validated Python function: ```def fibonacci(n):\n",
            "    if n <= 0:\n",
            "        return []\n",
            "    elif n == 1:\n",
            "        return [0]\n",
            "    elif n == 2:\n",
            "        return [0, 1]\n",
            "\n",
            "    fib_sequence = [0, 1]\n",
            "    while len(fib_sequence) < n:\n",
            "        fib_sequence.append(fib_sequence[-1] + fib_sequence[-2])\n",
            "    return fib_sequence```\n",
            "### EXIT WORKFLOW\n"
          ]
        }
      ]
    },
    {
      "cell_type": "code",
      "source": [
        "run_workflow(\"How to calculate the magic square.\")"
      ],
      "metadata": {
        "colab": {
          "base_uri": "https://localhost:8080/"
        },
        "id": "JJOFSkSsDDT7",
        "outputId": "c98e02e2-aded-4771-b5b6-a56ee810b0fa"
      },
      "execution_count": null,
      "outputs": [
        {
          "output_type": "stream",
          "name": "stdout",
          "text": [
            "### ENTER WORKFLOW\n",
            "TRY # 0\n",
            "### Extracting Python code\n",
            "### Extracting test case\n",
            "Code executed successfully.\n",
            "Code passed test case.\n",
            "Validated Python function: ```def is_magic_square(matrix):\n",
            "    n = len(matrix)\n",
            "    magic_sum = sum(matrix[0])\n",
            "\n",
            "    # Check rows\n",
            "    for row in matrix:\n",
            "        if sum(row) != magic_sum:\n",
            "            return False\n",
            "\n",
            "    # Check columns\n",
            "    for col in range(n):\n",
            "        if sum(matrix[row][col] for row in range(n)) != magic_sum:\n",
            "            return False\n",
            "\n",
            "    # Check diagonals\n",
            "    if sum(matrix[i][i] for i in range(n)) != magic_sum:\n",
            "        return False\n",
            "    if sum(matrix[i][n-1-i] for i in range(n)) != magic_sum:\n",
            "        return False\n",
            "\n",
            "    return True```\n",
            "### EXIT WORKFLOW\n"
          ]
        }
      ]
    },
    {
      "cell_type": "code",
      "source": [
        "run_workflow(\"Write a Python program to calculate the sum of all prime numbers adding 10 in a given list of positive integers.\")"
      ],
      "metadata": {
        "colab": {
          "base_uri": "https://localhost:8080/"
        },
        "id": "zHIJ1WwoDWAN",
        "outputId": "26b1a40c-f25a-4a19-eb70-879a491e9c7b"
      },
      "execution_count": null,
      "outputs": [
        {
          "output_type": "stream",
          "name": "stdout",
          "text": [
            "### ENTER WORKFLOW\n",
            "TRY # 0\n",
            "### Extracting Python code\n",
            "### Extracting test case\n",
            "Code executed successfully.\n",
            "Test failed\n",
            "Setting retry to True\n",
            "TRY # 1\n",
            "### Extracting Python code\n",
            "### Extracting test case\n",
            "Code executed successfully.\n",
            "Test failed\n",
            "Setting retry to True\n",
            "TRY # 2\n",
            "### Extracting Python code\n",
            "### Extracting test case\n",
            "Code executed successfully.\n",
            "Test failed\n",
            "Setting retry to True\n",
            "### EXIT WORKFLOW\n"
          ]
        }
      ]
    },
    {
      "cell_type": "code",
      "source": [],
      "metadata": {
        "id": "HEr6pIyEKkwX"
      },
      "execution_count": null,
      "outputs": []
    }
  ]
}