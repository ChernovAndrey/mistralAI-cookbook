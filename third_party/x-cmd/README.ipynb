{
 "cells": [
  {
   "cell_type": "markdown",
   "metadata": {},
   "source": [
    "## [The Mistral AI Command Line Client](https://x-cmd.com/mod/mistral/)\n",
    "\n",
    "The **mistral module** is a command-line client tool built by the x-cmd team using the Mistral AI API.  Written in posix shell and awk, it uses `curl` to send API requests. \n",
    "\n",
    "- [Installing](https://x-cmd.com/start/) x-cmd:\n",
    "    ```sh\n",
    "    eval \"$(curl https://get.x-cmd.com)\"\n",
    "    # or\n",
    "    eval \"$(wget -O- https://get.x-cmd.com)\"\n",
    "    ```"
   ]
  },
  {
   "cell_type": "markdown",
   "metadata": {},
   "source": [
    "## Getting started\n",
    "\n",
    "1. Configuring [`x mistral`](https://x-cmd.com/mod/mistral):\n",
    "    ```sh\n",
    "    x mistral init\n",
    "    # or\n",
    "    x mistral --cfg apikey=<Mistral AI API Key>\n",
    "    x mistral --cfg model=<Mistral Model>\n",
    "    ```\n",
    "    ![x mistral init](static/mistral.init.png)\n",
    "\n",
    "2. Having a conversation with Mistral AI：\n",
    "    ```sh\n",
    "    x mistral chat request \"hello\"\n",
    "    # The command alias is @mistral\n",
    "    @mistral \"hello\"\n",
    "    @mistral --file <file_path> \"Translate to French\"\n",
    "    ```\n",
    "    ![@mistral file](static/mistral.chat.1.png)\n",
    "\n",
    "3. Having a conversation in an interactive mode.\n",
    "    ```sh\n",
    "    x jina r \"https://www.x-cmd.com/start/guide\" | @mistral\n",
    "    ```\n",
    "    ![mistral repl](static/x.mistral.png)\n"
   ]
  },
  {
   "cell_type": "markdown",
   "metadata": {},
   "source": [
    "## [Command Line Options](https://www.x-cmd.com/mod/mistral#sub-commands)\n",
    "\n",
    "We offer the `x mistral` and `@mistral` commands, where `x mistral` focuses on model configuration and download management, while `@mistral` emphasizes model applications. Their command-line options are as follows: \n",
    "1. `x mistral`:\n",
    "    ```sh\n",
    "    SUBCOMMANDS:\n",
    "        init    Initialize the configuration using interactive mode\n",
    "        --cur   current session default value management\n",
    "        --cfg   Manage config item like apikey, etc\n",
    "        chat    chat with mistral\n",
    "        model   Model viewing and management\n",
    "    ```\n",
    "2. `@mistral`:\n",
    "    ```sh\n",
    "    -t,--temperature     Control the diversity of model generated results, the range is [0 ~ 1], when the temperat\n",
    "    -e                   Send the variable value as context to AI\n",
    "    -f,--file            Send file content as context to AI\n",
    "    -n,--history         Specify the number of history as context\n",
    "    -p                   Specify to get pipe content\n",
    "    -P,--nopipe          Specify not to get pipe content\n",
    "    -c                   Confirm before sending the request content to AI\n",
    "    --jina               Through jina reader, send the webpage content as context to AI\n",
    "    --ddgo               Send ddgo search content as context to AI\n",
    "    --tldr               Send tldr content as context to AI\n",
    "    --eval               Send the execution command results as context to AI\n",
    "    --kv                 Send key-value pairs as context to AI\n",
    "    --session            Specify session value\n",
    "    --minion             Specify minion file\n",
    "    --model              Specify AI model\n",
    "    --edit               Edit the request content in the terminal\n",
    "    --numbered           List the data with line numbers and send it\n",
    "    --question           Request content\n",
    "    ```"
   ]
  },
  {
   "cell_type": "markdown",
   "metadata": {},
   "source": []
  }
 ],
 "metadata": {
  "language_info": {
   "name": "python"
  }
 },
 "nbformat": 4,
 "nbformat_minor": 2
}
