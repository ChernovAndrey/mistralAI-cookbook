{
 "cells": [
  {
   "cell_type": "markdown",
   "metadata": {},
   "source": [
    "## Introduction\n",
    "\n",
    "The **mistral module** is a command-line client tool built by the x-cmd team using the Mistral AI API.  Written in posix shell and awk, it uses `curl` to send API requests. \n",
    "\n",
    "- [Installing](https://x-cmd.com/start/) x-cmd:\n",
    "    ```sh\n",
    "    eval \"$(curl https://get.x-cmd.com)\"\n",
    "    # or\n",
    "    eval \"$(wget -O- https://get.x-cmd.com)\"\n",
    "    ```"
   ]
  },
  {
   "cell_type": "markdown",
   "metadata": {},
   "source": [
    "## Getting started\n",
    "\n",
    "1. Configuring `x mistral`:\n",
    "    ```sh\n",
    "    x mistral init\n",
    "    # or\n",
    "    x mistral --cfg apikey=<Mistral AI API Key>\n",
    "    x mistral --cfg model=mistral-small\n",
    "    ```\n",
    "    ![x mistral init](static/mistral.init.png)\n",
    "\n",
    "2. Having a conversation with Mistral AI：\n",
    "    ```sh\n",
    "    x mistral chat request \"hello\"\n",
    "    # The command alias is @mistral\n",
    "    @mistral --file <file_path> \"Translate to French\"\n",
    "    ```\n",
    "    ![@mistral file](static/mistral.chat.1.png)\n",
    "\n",
    "3. Having a conversation in an interactive mode.\n",
    "    ```sh\n",
    "    x jina r \"https://www.x-cmd.com/start/guide\" | @mistral\n",
    "    ```\n",
    "    ![mistral repl](static/x.mistral.png)\n"
   ]
  },
  {
   "cell_type": "markdown",
   "metadata": {},
   "source": [
    "## Command Line Options\n",
    "\n",
    "We offer the `x mistral` and `@mistral` commands, where `x mistral` focuses on model configuration and download management, while `@mistral` emphasizes model applications. Their command-line options are as follows: \n",
    "\n",
    "![](static/mistral.advise.0.png)\n",
    "![](static/mistral.advise.1.png)\n",
    "![](static/mistral.advise.2.png)"
   ]
  }
 ],
 "metadata": {
  "language_info": {
   "name": "python"
  }
 },
 "nbformat": 4,
 "nbformat_minor": 2
}
