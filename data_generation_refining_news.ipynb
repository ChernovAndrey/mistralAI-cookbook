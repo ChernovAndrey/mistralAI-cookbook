{
  "nbformat": 4,
  "nbformat_minor": 0,
  "metadata": {
    "colab": {
      "provenance": []
    },
    "kernelspec": {
      "name": "python3",
      "display_name": "Python 3"
    },
    "language_info": {
      "name": "python"
    },
    "widgets": {
      "application/vnd.jupyter.widget-state+json": {
        "d22cd4eaee0e40adbedc86b0f07d9b1e": {
          "model_module": "@jupyter-widgets/controls",
          "model_name": "HBoxModel",
          "model_module_version": "1.5.0",
          "state": {
            "_dom_classes": [],
            "_model_module": "@jupyter-widgets/controls",
            "_model_module_version": "1.5.0",
            "_model_name": "HBoxModel",
            "_view_count": null,
            "_view_module": "@jupyter-widgets/controls",
            "_view_module_version": "1.5.0",
            "_view_name": "HBoxView",
            "box_style": "",
            "children": [
              "IPY_MODEL_d25d7bb2c9e54f0c8e20fc22c9fcc4e9",
              "IPY_MODEL_45f507bb3b684a1ea7950064303a676f",
              "IPY_MODEL_6220e005f53f4375955faf2bd86a65d0"
            ],
            "layout": "IPY_MODEL_927d7590c79849f1b50306ba5965416e"
          }
        },
        "d25d7bb2c9e54f0c8e20fc22c9fcc4e9": {
          "model_module": "@jupyter-widgets/controls",
          "model_name": "HTMLModel",
          "model_module_version": "1.5.0",
          "state": {
            "_dom_classes": [],
            "_model_module": "@jupyter-widgets/controls",
            "_model_module_version": "1.5.0",
            "_model_name": "HTMLModel",
            "_view_count": null,
            "_view_module": "@jupyter-widgets/controls",
            "_view_module_version": "1.5.0",
            "_view_name": "HTMLView",
            "description": "",
            "description_tooltip": null,
            "layout": "IPY_MODEL_c853c8d54e7d4c64bfd7638a5cc8e7f1",
            "placeholder": "​",
            "style": "IPY_MODEL_bcad9e79b1764762b347f2f5d39f3eae",
            "value": "100%"
          }
        },
        "45f507bb3b684a1ea7950064303a676f": {
          "model_module": "@jupyter-widgets/controls",
          "model_name": "FloatProgressModel",
          "model_module_version": "1.5.0",
          "state": {
            "_dom_classes": [],
            "_model_module": "@jupyter-widgets/controls",
            "_model_module_version": "1.5.0",
            "_model_name": "FloatProgressModel",
            "_view_count": null,
            "_view_module": "@jupyter-widgets/controls",
            "_view_module_version": "1.5.0",
            "_view_name": "ProgressView",
            "bar_style": "success",
            "description": "",
            "description_tooltip": null,
            "layout": "IPY_MODEL_af5b5a30e4c34496ab41895df8ff23bf",
            "max": 100,
            "min": 0,
            "orientation": "horizontal",
            "style": "IPY_MODEL_b0bb9fe64df1478b989c0e41f5adaee2",
            "value": 100
          }
        },
        "6220e005f53f4375955faf2bd86a65d0": {
          "model_module": "@jupyter-widgets/controls",
          "model_name": "HTMLModel",
          "model_module_version": "1.5.0",
          "state": {
            "_dom_classes": [],
            "_model_module": "@jupyter-widgets/controls",
            "_model_module_version": "1.5.0",
            "_model_name": "HTMLModel",
            "_view_count": null,
            "_view_module": "@jupyter-widgets/controls",
            "_view_module_version": "1.5.0",
            "_view_name": "HTMLView",
            "description": "",
            "description_tooltip": null,
            "layout": "IPY_MODEL_d6706695f1b34863b001453665bf44c5",
            "placeholder": "​",
            "style": "IPY_MODEL_07477804b50d4addadf74a274979eeee",
            "value": " 100/100 [02:24&lt;00:00,  2.32s/it]"
          }
        },
        "927d7590c79849f1b50306ba5965416e": {
          "model_module": "@jupyter-widgets/base",
          "model_name": "LayoutModel",
          "model_module_version": "1.2.0",
          "state": {
            "_model_module": "@jupyter-widgets/base",
            "_model_module_version": "1.2.0",
            "_model_name": "LayoutModel",
            "_view_count": null,
            "_view_module": "@jupyter-widgets/base",
            "_view_module_version": "1.2.0",
            "_view_name": "LayoutView",
            "align_content": null,
            "align_items": null,
            "align_self": null,
            "border": null,
            "bottom": null,
            "display": null,
            "flex": null,
            "flex_flow": null,
            "grid_area": null,
            "grid_auto_columns": null,
            "grid_auto_flow": null,
            "grid_auto_rows": null,
            "grid_column": null,
            "grid_gap": null,
            "grid_row": null,
            "grid_template_areas": null,
            "grid_template_columns": null,
            "grid_template_rows": null,
            "height": null,
            "justify_content": null,
            "justify_items": null,
            "left": null,
            "margin": null,
            "max_height": null,
            "max_width": null,
            "min_height": null,
            "min_width": null,
            "object_fit": null,
            "object_position": null,
            "order": null,
            "overflow": null,
            "overflow_x": null,
            "overflow_y": null,
            "padding": null,
            "right": null,
            "top": null,
            "visibility": null,
            "width": null
          }
        },
        "c853c8d54e7d4c64bfd7638a5cc8e7f1": {
          "model_module": "@jupyter-widgets/base",
          "model_name": "LayoutModel",
          "model_module_version": "1.2.0",
          "state": {
            "_model_module": "@jupyter-widgets/base",
            "_model_module_version": "1.2.0",
            "_model_name": "LayoutModel",
            "_view_count": null,
            "_view_module": "@jupyter-widgets/base",
            "_view_module_version": "1.2.0",
            "_view_name": "LayoutView",
            "align_content": null,
            "align_items": null,
            "align_self": null,
            "border": null,
            "bottom": null,
            "display": null,
            "flex": null,
            "flex_flow": null,
            "grid_area": null,
            "grid_auto_columns": null,
            "grid_auto_flow": null,
            "grid_auto_rows": null,
            "grid_column": null,
            "grid_gap": null,
            "grid_row": null,
            "grid_template_areas": null,
            "grid_template_columns": null,
            "grid_template_rows": null,
            "height": null,
            "justify_content": null,
            "justify_items": null,
            "left": null,
            "margin": null,
            "max_height": null,
            "max_width": null,
            "min_height": null,
            "min_width": null,
            "object_fit": null,
            "object_position": null,
            "order": null,
            "overflow": null,
            "overflow_x": null,
            "overflow_y": null,
            "padding": null,
            "right": null,
            "top": null,
            "visibility": null,
            "width": null
          }
        },
        "bcad9e79b1764762b347f2f5d39f3eae": {
          "model_module": "@jupyter-widgets/controls",
          "model_name": "DescriptionStyleModel",
          "model_module_version": "1.5.0",
          "state": {
            "_model_module": "@jupyter-widgets/controls",
            "_model_module_version": "1.5.0",
            "_model_name": "DescriptionStyleModel",
            "_view_count": null,
            "_view_module": "@jupyter-widgets/base",
            "_view_module_version": "1.2.0",
            "_view_name": "StyleView",
            "description_width": ""
          }
        },
        "af5b5a30e4c34496ab41895df8ff23bf": {
          "model_module": "@jupyter-widgets/base",
          "model_name": "LayoutModel",
          "model_module_version": "1.2.0",
          "state": {
            "_model_module": "@jupyter-widgets/base",
            "_model_module_version": "1.2.0",
            "_model_name": "LayoutModel",
            "_view_count": null,
            "_view_module": "@jupyter-widgets/base",
            "_view_module_version": "1.2.0",
            "_view_name": "LayoutView",
            "align_content": null,
            "align_items": null,
            "align_self": null,
            "border": null,
            "bottom": null,
            "display": null,
            "flex": null,
            "flex_flow": null,
            "grid_area": null,
            "grid_auto_columns": null,
            "grid_auto_flow": null,
            "grid_auto_rows": null,
            "grid_column": null,
            "grid_gap": null,
            "grid_row": null,
            "grid_template_areas": null,
            "grid_template_columns": null,
            "grid_template_rows": null,
            "height": null,
            "justify_content": null,
            "justify_items": null,
            "left": null,
            "margin": null,
            "max_height": null,
            "max_width": null,
            "min_height": null,
            "min_width": null,
            "object_fit": null,
            "object_position": null,
            "order": null,
            "overflow": null,
            "overflow_x": null,
            "overflow_y": null,
            "padding": null,
            "right": null,
            "top": null,
            "visibility": null,
            "width": null
          }
        },
        "b0bb9fe64df1478b989c0e41f5adaee2": {
          "model_module": "@jupyter-widgets/controls",
          "model_name": "ProgressStyleModel",
          "model_module_version": "1.5.0",
          "state": {
            "_model_module": "@jupyter-widgets/controls",
            "_model_module_version": "1.5.0",
            "_model_name": "ProgressStyleModel",
            "_view_count": null,
            "_view_module": "@jupyter-widgets/base",
            "_view_module_version": "1.2.0",
            "_view_name": "StyleView",
            "bar_color": null,
            "description_width": ""
          }
        },
        "d6706695f1b34863b001453665bf44c5": {
          "model_module": "@jupyter-widgets/base",
          "model_name": "LayoutModel",
          "model_module_version": "1.2.0",
          "state": {
            "_model_module": "@jupyter-widgets/base",
            "_model_module_version": "1.2.0",
            "_model_name": "LayoutModel",
            "_view_count": null,
            "_view_module": "@jupyter-widgets/base",
            "_view_module_version": "1.2.0",
            "_view_name": "LayoutView",
            "align_content": null,
            "align_items": null,
            "align_self": null,
            "border": null,
            "bottom": null,
            "display": null,
            "flex": null,
            "flex_flow": null,
            "grid_area": null,
            "grid_auto_columns": null,
            "grid_auto_flow": null,
            "grid_auto_rows": null,
            "grid_column": null,
            "grid_gap": null,
            "grid_row": null,
            "grid_template_areas": null,
            "grid_template_columns": null,
            "grid_template_rows": null,
            "height": null,
            "justify_content": null,
            "justify_items": null,
            "left": null,
            "margin": null,
            "max_height": null,
            "max_width": null,
            "min_height": null,
            "min_width": null,
            "object_fit": null,
            "object_position": null,
            "order": null,
            "overflow": null,
            "overflow_x": null,
            "overflow_y": null,
            "padding": null,
            "right": null,
            "top": null,
            "visibility": null,
            "width": null
          }
        },
        "07477804b50d4addadf74a274979eeee": {
          "model_module": "@jupyter-widgets/controls",
          "model_name": "DescriptionStyleModel",
          "model_module_version": "1.5.0",
          "state": {
            "_model_module": "@jupyter-widgets/controls",
            "_model_module_version": "1.5.0",
            "_model_name": "DescriptionStyleModel",
            "_view_count": null,
            "_view_module": "@jupyter-widgets/base",
            "_view_module_version": "1.2.0",
            "_view_name": "StyleView",
            "description_width": ""
          }
        },
        "e334bd7709a24ea2883245321b763f8a": {
          "model_module": "@jupyter-widgets/controls",
          "model_name": "HBoxModel",
          "model_module_version": "1.5.0",
          "state": {
            "_dom_classes": [],
            "_model_module": "@jupyter-widgets/controls",
            "_model_module_version": "1.5.0",
            "_model_name": "HBoxModel",
            "_view_count": null,
            "_view_module": "@jupyter-widgets/controls",
            "_view_module_version": "1.5.0",
            "_view_name": "HBoxView",
            "box_style": "",
            "children": [
              "IPY_MODEL_2ec04f1343b84767b44d24f6bdb299d4",
              "IPY_MODEL_1e8013ede23e40448fcad827d35674fb",
              "IPY_MODEL_9cb7347922834bbdb11ebe30b86bbedd"
            ],
            "layout": "IPY_MODEL_c523cda4fb2f4a1fa9a8436c13ff1d7f"
          }
        },
        "2ec04f1343b84767b44d24f6bdb299d4": {
          "model_module": "@jupyter-widgets/controls",
          "model_name": "HTMLModel",
          "model_module_version": "1.5.0",
          "state": {
            "_dom_classes": [],
            "_model_module": "@jupyter-widgets/controls",
            "_model_module_version": "1.5.0",
            "_model_name": "HTMLModel",
            "_view_count": null,
            "_view_module": "@jupyter-widgets/controls",
            "_view_module_version": "1.5.0",
            "_view_name": "HTMLView",
            "description": "",
            "description_tooltip": null,
            "layout": "IPY_MODEL_6c1a6ac980ef453f9fad435f5ff1d3f7",
            "placeholder": "​",
            "style": "IPY_MODEL_037dd6632d8b44479351883e484b110a",
            "value": "100%"
          }
        },
        "1e8013ede23e40448fcad827d35674fb": {
          "model_module": "@jupyter-widgets/controls",
          "model_name": "FloatProgressModel",
          "model_module_version": "1.5.0",
          "state": {
            "_dom_classes": [],
            "_model_module": "@jupyter-widgets/controls",
            "_model_module_version": "1.5.0",
            "_model_name": "FloatProgressModel",
            "_view_count": null,
            "_view_module": "@jupyter-widgets/controls",
            "_view_module_version": "1.5.0",
            "_view_name": "ProgressView",
            "bar_style": "success",
            "description": "",
            "description_tooltip": null,
            "layout": "IPY_MODEL_ed0b4b21092e4d93af239ea329018d0e",
            "max": 100,
            "min": 0,
            "orientation": "horizontal",
            "style": "IPY_MODEL_4e64a149b4ac4dfb9beeb339e4f31cb7",
            "value": 100
          }
        },
        "9cb7347922834bbdb11ebe30b86bbedd": {
          "model_module": "@jupyter-widgets/controls",
          "model_name": "HTMLModel",
          "model_module_version": "1.5.0",
          "state": {
            "_dom_classes": [],
            "_model_module": "@jupyter-widgets/controls",
            "_model_module_version": "1.5.0",
            "_model_name": "HTMLModel",
            "_view_count": null,
            "_view_module": "@jupyter-widgets/controls",
            "_view_module_version": "1.5.0",
            "_view_name": "HTMLView",
            "description": "",
            "description_tooltip": null,
            "layout": "IPY_MODEL_c5d065c6dada41238b5e125364418109",
            "placeholder": "​",
            "style": "IPY_MODEL_db922744e00a44dfae499bbdfea4535f",
            "value": " 100/100 [03:08&lt;00:00,  1.51s/it]"
          }
        },
        "c523cda4fb2f4a1fa9a8436c13ff1d7f": {
          "model_module": "@jupyter-widgets/base",
          "model_name": "LayoutModel",
          "model_module_version": "1.2.0",
          "state": {
            "_model_module": "@jupyter-widgets/base",
            "_model_module_version": "1.2.0",
            "_model_name": "LayoutModel",
            "_view_count": null,
            "_view_module": "@jupyter-widgets/base",
            "_view_module_version": "1.2.0",
            "_view_name": "LayoutView",
            "align_content": null,
            "align_items": null,
            "align_self": null,
            "border": null,
            "bottom": null,
            "display": null,
            "flex": null,
            "flex_flow": null,
            "grid_area": null,
            "grid_auto_columns": null,
            "grid_auto_flow": null,
            "grid_auto_rows": null,
            "grid_column": null,
            "grid_gap": null,
            "grid_row": null,
            "grid_template_areas": null,
            "grid_template_columns": null,
            "grid_template_rows": null,
            "height": null,
            "justify_content": null,
            "justify_items": null,
            "left": null,
            "margin": null,
            "max_height": null,
            "max_width": null,
            "min_height": null,
            "min_width": null,
            "object_fit": null,
            "object_position": null,
            "order": null,
            "overflow": null,
            "overflow_x": null,
            "overflow_y": null,
            "padding": null,
            "right": null,
            "top": null,
            "visibility": null,
            "width": null
          }
        },
        "6c1a6ac980ef453f9fad435f5ff1d3f7": {
          "model_module": "@jupyter-widgets/base",
          "model_name": "LayoutModel",
          "model_module_version": "1.2.0",
          "state": {
            "_model_module": "@jupyter-widgets/base",
            "_model_module_version": "1.2.0",
            "_model_name": "LayoutModel",
            "_view_count": null,
            "_view_module": "@jupyter-widgets/base",
            "_view_module_version": "1.2.0",
            "_view_name": "LayoutView",
            "align_content": null,
            "align_items": null,
            "align_self": null,
            "border": null,
            "bottom": null,
            "display": null,
            "flex": null,
            "flex_flow": null,
            "grid_area": null,
            "grid_auto_columns": null,
            "grid_auto_flow": null,
            "grid_auto_rows": null,
            "grid_column": null,
            "grid_gap": null,
            "grid_row": null,
            "grid_template_areas": null,
            "grid_template_columns": null,
            "grid_template_rows": null,
            "height": null,
            "justify_content": null,
            "justify_items": null,
            "left": null,
            "margin": null,
            "max_height": null,
            "max_width": null,
            "min_height": null,
            "min_width": null,
            "object_fit": null,
            "object_position": null,
            "order": null,
            "overflow": null,
            "overflow_x": null,
            "overflow_y": null,
            "padding": null,
            "right": null,
            "top": null,
            "visibility": null,
            "width": null
          }
        },
        "037dd6632d8b44479351883e484b110a": {
          "model_module": "@jupyter-widgets/controls",
          "model_name": "DescriptionStyleModel",
          "model_module_version": "1.5.0",
          "state": {
            "_model_module": "@jupyter-widgets/controls",
            "_model_module_version": "1.5.0",
            "_model_name": "DescriptionStyleModel",
            "_view_count": null,
            "_view_module": "@jupyter-widgets/base",
            "_view_module_version": "1.2.0",
            "_view_name": "StyleView",
            "description_width": ""
          }
        },
        "ed0b4b21092e4d93af239ea329018d0e": {
          "model_module": "@jupyter-widgets/base",
          "model_name": "LayoutModel",
          "model_module_version": "1.2.0",
          "state": {
            "_model_module": "@jupyter-widgets/base",
            "_model_module_version": "1.2.0",
            "_model_name": "LayoutModel",
            "_view_count": null,
            "_view_module": "@jupyter-widgets/base",
            "_view_module_version": "1.2.0",
            "_view_name": "LayoutView",
            "align_content": null,
            "align_items": null,
            "align_self": null,
            "border": null,
            "bottom": null,
            "display": null,
            "flex": null,
            "flex_flow": null,
            "grid_area": null,
            "grid_auto_columns": null,
            "grid_auto_flow": null,
            "grid_auto_rows": null,
            "grid_column": null,
            "grid_gap": null,
            "grid_row": null,
            "grid_template_areas": null,
            "grid_template_columns": null,
            "grid_template_rows": null,
            "height": null,
            "justify_content": null,
            "justify_items": null,
            "left": null,
            "margin": null,
            "max_height": null,
            "max_width": null,
            "min_height": null,
            "min_width": null,
            "object_fit": null,
            "object_position": null,
            "order": null,
            "overflow": null,
            "overflow_x": null,
            "overflow_y": null,
            "padding": null,
            "right": null,
            "top": null,
            "visibility": null,
            "width": null
          }
        },
        "4e64a149b4ac4dfb9beeb339e4f31cb7": {
          "model_module": "@jupyter-widgets/controls",
          "model_name": "ProgressStyleModel",
          "model_module_version": "1.5.0",
          "state": {
            "_model_module": "@jupyter-widgets/controls",
            "_model_module_version": "1.5.0",
            "_model_name": "ProgressStyleModel",
            "_view_count": null,
            "_view_module": "@jupyter-widgets/base",
            "_view_module_version": "1.2.0",
            "_view_name": "StyleView",
            "bar_color": null,
            "description_width": ""
          }
        },
        "c5d065c6dada41238b5e125364418109": {
          "model_module": "@jupyter-widgets/base",
          "model_name": "LayoutModel",
          "model_module_version": "1.2.0",
          "state": {
            "_model_module": "@jupyter-widgets/base",
            "_model_module_version": "1.2.0",
            "_model_name": "LayoutModel",
            "_view_count": null,
            "_view_module": "@jupyter-widgets/base",
            "_view_module_version": "1.2.0",
            "_view_name": "LayoutView",
            "align_content": null,
            "align_items": null,
            "align_self": null,
            "border": null,
            "bottom": null,
            "display": null,
            "flex": null,
            "flex_flow": null,
            "grid_area": null,
            "grid_auto_columns": null,
            "grid_auto_flow": null,
            "grid_auto_rows": null,
            "grid_column": null,
            "grid_gap": null,
            "grid_row": null,
            "grid_template_areas": null,
            "grid_template_columns": null,
            "grid_template_rows": null,
            "height": null,
            "justify_content": null,
            "justify_items": null,
            "left": null,
            "margin": null,
            "max_height": null,
            "max_width": null,
            "min_height": null,
            "min_width": null,
            "object_fit": null,
            "object_position": null,
            "order": null,
            "overflow": null,
            "overflow_x": null,
            "overflow_y": null,
            "padding": null,
            "right": null,
            "top": null,
            "visibility": null,
            "width": null
          }
        },
        "db922744e00a44dfae499bbdfea4535f": {
          "model_module": "@jupyter-widgets/controls",
          "model_name": "DescriptionStyleModel",
          "model_module_version": "1.5.0",
          "state": {
            "_model_module": "@jupyter-widgets/controls",
            "_model_module_version": "1.5.0",
            "_model_name": "DescriptionStyleModel",
            "_view_count": null,
            "_view_module": "@jupyter-widgets/base",
            "_view_module_version": "1.2.0",
            "_view_name": "StyleView",
            "description_width": ""
          }
        }
      }
    }
  },
  "cells": [
    {
      "cell_type": "markdown",
      "source": [
        "# Data Generation: Refining News Articles"
      ],
      "metadata": {
        "id": "J3rdWWphfXhq"
      }
    },
    {
      "cell_type": "markdown",
      "source": [
        "In this cookbook, we will dig into the process of generating data to fine-tune a model for rewriting articles in a specific, refined format. We will utilize a two-step pipeline for this purpose. First, we will generate critiques about the articles making use of guides that our model should respect and use as reference. Then, using these critiques, we will produce new, refined articles. The goal is to create a dataset that includes at least the original article and its refined version, which could potentially be used to fine-tune a model in the future or other purposes."
      ],
      "metadata": {
        "id": "7USghSLJya4k"
      }
    },
    {
      "cell_type": "markdown",
      "source": [
        "First step is to install `mistralai` and create a client with your api key!"
      ],
      "metadata": {
        "id": "iosTze_oiGdF"
      }
    },
    {
      "cell_type": "code",
      "execution_count": null,
      "metadata": {
        "colab": {
          "base_uri": "https://localhost:8080/"
        },
        "id": "wszpTI83Ab71",
        "outputId": "e866fa21-e127-495b-98d1-348a133d9cd1"
      },
      "outputs": [
        {
          "output_type": "stream",
          "name": "stdout",
          "text": [
            "Requirement already satisfied: mistralai in /usr/local/lib/python3.10/dist-packages (0.4.2)\n",
            "Requirement already satisfied: httpx<1,>=0.25 in /usr/local/lib/python3.10/dist-packages (from mistralai) (0.27.0)\n",
            "Requirement already satisfied: orjson<3.11,>=3.9.10 in /usr/local/lib/python3.10/dist-packages (from mistralai) (3.10.6)\n",
            "Requirement already satisfied: pydantic<3,>=2.5.2 in /usr/local/lib/python3.10/dist-packages (from mistralai) (2.8.0)\n",
            "Requirement already satisfied: anyio in /usr/local/lib/python3.10/dist-packages (from httpx<1,>=0.25->mistralai) (3.7.1)\n",
            "Requirement already satisfied: certifi in /usr/local/lib/python3.10/dist-packages (from httpx<1,>=0.25->mistralai) (2024.6.2)\n",
            "Requirement already satisfied: httpcore==1.* in /usr/local/lib/python3.10/dist-packages (from httpx<1,>=0.25->mistralai) (1.0.5)\n",
            "Requirement already satisfied: idna in /usr/local/lib/python3.10/dist-packages (from httpx<1,>=0.25->mistralai) (3.7)\n",
            "Requirement already satisfied: sniffio in /usr/local/lib/python3.10/dist-packages (from httpx<1,>=0.25->mistralai) (1.3.1)\n",
            "Requirement already satisfied: h11<0.15,>=0.13 in /usr/local/lib/python3.10/dist-packages (from httpcore==1.*->httpx<1,>=0.25->mistralai) (0.14.0)\n",
            "Requirement already satisfied: annotated-types>=0.4.0 in /usr/local/lib/python3.10/dist-packages (from pydantic<3,>=2.5.2->mistralai) (0.7.0)\n",
            "Requirement already satisfied: pydantic-core==2.20.0 in /usr/local/lib/python3.10/dist-packages (from pydantic<3,>=2.5.2->mistralai) (2.20.0)\n",
            "Requirement already satisfied: typing-extensions>=4.6.1 in /usr/local/lib/python3.10/dist-packages (from pydantic<3,>=2.5.2->mistralai) (4.12.2)\n",
            "Requirement already satisfied: exceptiongroup in /usr/local/lib/python3.10/dist-packages (from anyio->httpx<1,>=0.25->mistralai) (1.2.1)\n"
          ]
        }
      ],
      "source": [
        "!pip install mistralai"
      ]
    },
    {
      "cell_type": "code",
      "source": [
        "from mistralai.client import MistralClient\n",
        "from tqdm.contrib.concurrent import process_map\n",
        "import secrets\n",
        "import time\n",
        "import multiprocessing\n",
        "import random\n",
        "import json\n",
        "import os"
      ],
      "metadata": {
        "id": "itATafSa4Rmp"
      },
      "execution_count": null,
      "outputs": []
    },
    {
      "cell_type": "code",
      "source": [
        "CLIENT = MistralClient(api_key=\"api_key\")"
      ],
      "metadata": {
        "id": "R1az3Y2x4VYA"
      },
      "execution_count": null,
      "outputs": []
    },
    {
      "cell_type": "markdown",
      "source": [
        "The next step is to download the dataset. We will be making use of a dataset available on Hugging Face, but you could provide your own!"
      ],
      "metadata": {
        "id": "GSe89uMDiTAj"
      }
    },
    {
      "cell_type": "code",
      "source": [
        "!pip install datasets"
      ],
      "metadata": {
        "colab": {
          "base_uri": "https://localhost:8080/"
        },
        "id": "0p7uuHBJ80P9",
        "outputId": "21418603-71de-473c-81d4-7efbb2da39bf"
      },
      "execution_count": null,
      "outputs": [
        {
          "output_type": "stream",
          "name": "stdout",
          "text": [
            "Requirement already satisfied: datasets in /usr/local/lib/python3.10/dist-packages (2.20.0)\n",
            "Requirement already satisfied: filelock in /usr/local/lib/python3.10/dist-packages (from datasets) (3.15.4)\n",
            "Requirement already satisfied: numpy>=1.17 in /usr/local/lib/python3.10/dist-packages (from datasets) (1.25.2)\n",
            "Requirement already satisfied: pyarrow>=15.0.0 in /usr/local/lib/python3.10/dist-packages (from datasets) (16.1.0)\n",
            "Requirement already satisfied: pyarrow-hotfix in /usr/local/lib/python3.10/dist-packages (from datasets) (0.6)\n",
            "Requirement already satisfied: dill<0.3.9,>=0.3.0 in /usr/local/lib/python3.10/dist-packages (from datasets) (0.3.8)\n",
            "Requirement already satisfied: pandas in /usr/local/lib/python3.10/dist-packages (from datasets) (2.0.3)\n",
            "Requirement already satisfied: requests>=2.32.2 in /usr/local/lib/python3.10/dist-packages (from datasets) (2.32.3)\n",
            "Requirement already satisfied: tqdm>=4.66.3 in /usr/local/lib/python3.10/dist-packages (from datasets) (4.66.4)\n",
            "Requirement already satisfied: xxhash in /usr/local/lib/python3.10/dist-packages (from datasets) (3.4.1)\n",
            "Requirement already satisfied: multiprocess in /usr/local/lib/python3.10/dist-packages (from datasets) (0.70.16)\n",
            "Requirement already satisfied: fsspec[http]<=2024.5.0,>=2023.1.0 in /usr/local/lib/python3.10/dist-packages (from datasets) (2023.6.0)\n",
            "Requirement already satisfied: aiohttp in /usr/local/lib/python3.10/dist-packages (from datasets) (3.9.5)\n",
            "Requirement already satisfied: huggingface-hub>=0.21.2 in /usr/local/lib/python3.10/dist-packages (from datasets) (0.23.4)\n",
            "Requirement already satisfied: packaging in /usr/local/lib/python3.10/dist-packages (from datasets) (24.1)\n",
            "Requirement already satisfied: pyyaml>=5.1 in /usr/local/lib/python3.10/dist-packages (from datasets) (6.0.1)\n",
            "Requirement already satisfied: aiosignal>=1.1.2 in /usr/local/lib/python3.10/dist-packages (from aiohttp->datasets) (1.3.1)\n",
            "Requirement already satisfied: attrs>=17.3.0 in /usr/local/lib/python3.10/dist-packages (from aiohttp->datasets) (23.2.0)\n",
            "Requirement already satisfied: frozenlist>=1.1.1 in /usr/local/lib/python3.10/dist-packages (from aiohttp->datasets) (1.4.1)\n",
            "Requirement already satisfied: multidict<7.0,>=4.5 in /usr/local/lib/python3.10/dist-packages (from aiohttp->datasets) (6.0.5)\n",
            "Requirement already satisfied: yarl<2.0,>=1.0 in /usr/local/lib/python3.10/dist-packages (from aiohttp->datasets) (1.9.4)\n",
            "Requirement already satisfied: async-timeout<5.0,>=4.0 in /usr/local/lib/python3.10/dist-packages (from aiohttp->datasets) (4.0.3)\n",
            "Requirement already satisfied: typing-extensions>=3.7.4.3 in /usr/local/lib/python3.10/dist-packages (from huggingface-hub>=0.21.2->datasets) (4.12.2)\n",
            "Requirement already satisfied: charset-normalizer<4,>=2 in /usr/local/lib/python3.10/dist-packages (from requests>=2.32.2->datasets) (3.3.2)\n",
            "Requirement already satisfied: idna<4,>=2.5 in /usr/local/lib/python3.10/dist-packages (from requests>=2.32.2->datasets) (3.7)\n",
            "Requirement already satisfied: urllib3<3,>=1.21.1 in /usr/local/lib/python3.10/dist-packages (from requests>=2.32.2->datasets) (2.0.7)\n",
            "Requirement already satisfied: certifi>=2017.4.17 in /usr/local/lib/python3.10/dist-packages (from requests>=2.32.2->datasets) (2024.6.2)\n",
            "Requirement already satisfied: python-dateutil>=2.8.2 in /usr/local/lib/python3.10/dist-packages (from pandas->datasets) (2.8.2)\n",
            "Requirement already satisfied: pytz>=2020.1 in /usr/local/lib/python3.10/dist-packages (from pandas->datasets) (2023.4)\n",
            "Requirement already satisfied: tzdata>=2022.1 in /usr/local/lib/python3.10/dist-packages (from pandas->datasets) (2024.1)\n",
            "Requirement already satisfied: six>=1.5 in /usr/local/lib/python3.10/dist-packages (from python-dateutil>=2.8.2->pandas->datasets) (1.16.0)\n"
          ]
        }
      ]
    },
    {
      "cell_type": "markdown",
      "source": [
        "For this example, we will be generating 100 pairs of the original articles and the refined ones, but you are free to generate as many as you require."
      ],
      "metadata": {
        "id": "UcUKCkrfijoV"
      }
    },
    {
      "cell_type": "code",
      "source": [
        "import datasets\n",
        "import random\n",
        "import json\n",
        "\n",
        "news_articles = list(datasets.load_dataset(\"AyoubChLin/CNN_News_Articles_2011-2022\", split=\"train\"))\n",
        "\n",
        "random.shuffle(news_articles)\n",
        "\n",
        "print(\"Total Articles:\",len(news_articles))\n",
        "\n",
        "n_sample = 100\n",
        "news_articles = random.sample(news_articles, n_sample)\n",
        "\n",
        "print(\"Sampled:\", n_sample)\n",
        "\n",
        "with open(\"./news.jsonl\", \"w\") as f:\n",
        "  for news in news_articles:\n",
        "    f.write(json.dumps({\"news\": news[\"text\"]}) + \"\\n\")\n"
      ],
      "metadata": {
        "id": "d6oBNMbY8kMF",
        "colab": {
          "base_uri": "https://localhost:8080/"
        },
        "outputId": "412032da-b15c-40f6-cf81-07de47078a52"
      },
      "execution_count": null,
      "outputs": [
        {
          "output_type": "stream",
          "name": "stdout",
          "text": [
            "Total Articles: 32218\n",
            "Sampled: 100\n"
          ]
        }
      ]
    },
    {
      "cell_type": "markdown",
      "source": [
        "Our pipeline will consist of two steps. First, we will generate critiques using a style guideline of our choice. Here, we have four different guidelines that are more or less the same, but you could rewrite your own.\n",
        "\n",
        "Once the critiques have been generated, we will use them to generate the new rewritten articles!\n",
        "\n",
        "Let's get started with the criticism!"
      ],
      "metadata": {
        "id": "R95riV-5yHWq"
      }
    },
    {
      "cell_type": "markdown",
      "source": [
        "Let's create a folder where we will cache our data as we generate it. This can be handy for debugging and to have a backup in case something goes wrong."
      ],
      "metadata": {
        "id": "ktT106SvjBA5"
      }
    },
    {
      "cell_type": "code",
      "source": [
        "import os\n",
        "newpath = r'./data'\n",
        "if not os.path.exists(newpath):\n",
        "    os.makedirs(newpath)"
      ],
      "metadata": {
        "id": "XsU_x44dsQVA"
      },
      "execution_count": null,
      "outputs": []
    },
    {
      "cell_type": "markdown",
      "source": [
        "Now, let's define the first process. We will make use of `mistral-large-latest` capabilities to both criticize and rewrite our articles, but you are free to use any combination of your choice."
      ],
      "metadata": {
        "id": "JfJOuUe6jKdK"
      }
    },
    {
      "cell_type": "code",
      "source": [
        "def process_critique(args):\n",
        "    line, systems, guides = args\n",
        "    record = json.loads(line)\n",
        "\n",
        "    news_article = record.get(\"news\")\n",
        "\n",
        "    part = random.choice(list(range(len(guides))))\n",
        "    guide = guides[part]\n",
        "\n",
        "    part = random.choice(list(range(len(systems))))\n",
        "    system = systems[part].format(guide)\n",
        "\n",
        "    time.sleep(1)\n",
        "    try:\n",
        "        answer = CLIENT.chat(\n",
        "            model=\"mistral-large-latest\",\n",
        "            messages=[\n",
        "                {\"role\": \"system\", \"content\": system},\n",
        "                {\"role\": \"user\", \"content\": news_article},\n",
        "            ],\n",
        "            temperature=0.2,\n",
        "            max_tokens=2048\n",
        "        )\n",
        "        critique = answer.choices[0].message.content\n",
        "\n",
        "        result = json.dumps({\"news\": news_article, \"critique\": critique, \"status\": \"SUCCESS\"})\n",
        "\n",
        "    except Exception as e:\n",
        "        print(e)\n",
        "        result = json.dumps({\"news\": news_article, \"critique\": str(e), \"status\": \"ERROR\"}) # We save the errors to keep track of everything for debugging and logging\n",
        "\n",
        "    random_hash = secrets.token_hex(4)\n",
        "\n",
        "    with open(f\"./data/news_critique_{random_hash}.jsonl\", \"w\") as f:\n",
        "        f.write(result)\n",
        "\n",
        "    return result"
      ],
      "metadata": {
        "id": "5rI8uL12B5In"
      },
      "execution_count": null,
      "outputs": []
    },
    {
      "cell_type": "markdown",
      "source": [
        "To generate diverse output each time, it might be a good idea to have multiple system prompts instead of a single one. Here, we provide a few system prompts that are all very similar but overall different."
      ],
      "metadata": {
        "id": "GXaIgWxcEpdZ"
      }
    },
    {
      "cell_type": "code",
      "source": [
        "systems_variations = [\n",
        "    \"As a 'News Article Editor' adhering to the Economist style guide, your responsibility is to polish and restructure news articles to align them with the high standards of clarity, accuracy, and elegance set by the Economist style guide:\\n\\n {} \\n\\n You are presented with a news article. Identify the ten (or fewer) most significant stylistic concerns and provide examples of how they can be enhanced.\",\n",
        "    \"As a 'News Content Refiner' committed to the Economist style guide, your role is to revise and perfect news articles to ensure they meet the exceptional standards of lucidity, exactness, and refinement synonymous with the Economist style guide:\\n\\n {} \\n\\n You have a news article at hand. Pinpoint the sixteen (or less) most crucial stylistic problems and suggest examples of how they might be improved.\",\n",
        "    \"As a 'News Piece Stylist' in accordance with the Economist style guide, your duty is to amend and enrich news articles to guarantee they adhere to the rigorous standards of clarity, precision, and sophistication embodied by the Economist style guide:\\n\\n {} \\n\\n You are handed a news piece. Highlight the fourteen (or fewer) most pressing stylistic errors and offer examples of how they could be rectified.\",\n",
        "    \"As a 'News Article Enhancer' following the principles of the Economist style guide, your mission is to modify and elevate news articles to match the high-quality standards of clarity, precision, and eloquence established by the Economist style guide:\\n\\n {} \\n\\n You are given a news article to work on. Specify the twenty (or less) most notable stylistic flaws and provide examples of how they can be bettered.\",\n",
        "    \"As a 'News Prose Stylist' abiding by the Economist style guide, your assignment is to correct and embellish news articles to ensure they meet the distinguished standards of clarity, precision, and sophistication upheld by the Economist style guide:\\n\\n {} \\n\\n You are provided with a news article for evaluation. Indicate the twenty (or fewer) most important stylistic issues and propose examples of how they may be optimized.\",\n",
        "    \"As a 'News Report Stylist' in compliance with the Economist style guide, your job is to revise and improve news articles to guarantee they align with the high benchmarks of clarity, precision, and sophistication set forth by the Economist style guide:\\n\\n {} \\n\\n You are tasked with reviewing a news report. List the fifteen (or less) most critical stylistic shortcomings and provide examples of how they might be amended.\",\n",
        "    \"As a 'News Writing Stylist' in line with the Economist style guide, your responsibility is to edit and refine news articles to ensure they meet the superior standards of clarity, precision, and sophistication inherent to the Economist style guide:\\n\\n {} \\n\\n You are assigned to edit a news article. Identify the sixteen (or fewer) most prominent stylistic inconsistencies and suggest examples of how they can be enhanced.\",\n",
        "    \"As a 'News Text Stylist' adhering to the Economist style guide, your role is to amend and perfect news articles to ensure they meet the high-caliber standards of clarity, precision, and sophistication characteristic of the Economist style guide:\\n\\n {} \\n\\n You are given a news text to evaluate. Highlight the nineteen (or less) most significant stylistic discrepancies and provide examples of how they might be improved.\",\n",
        "    \"As a 'News Copy Stylist' in accordance with the Economist style guide, your duty is to revise and enrich news articles to guarantee they adhere to the exacting standards of clarity, precision, and sophistication embodied by the Economist style guide:\\n\\n {} \\n\\n You are tasked with reviewing a news copy. List the eleven (or fewer) most crucial stylistic errors and propose examples of how they can be rectified.\",\n",
        "    \"As a 'News Article Stylist and Editor' committed to the Economist style guide, your mission is to refine, rewrite, and edit news articles to ensure they meet the high standards of clarity, precision, and sophistication synonymous with the Economist style guide:\\n\\n {} \\n\\n You are given a news article to refine and edit. Identify the seventeen (or fewer) most pressing stylistic concerns and provide examples of how they can be improved.\"\n",
        "]"
      ],
      "metadata": {
        "id": "dEld7Qku4aVP"
      },
      "execution_count": null,
      "outputs": []
    },
    {
      "cell_type": "markdown",
      "source": [
        "Now, it's time to generate. Let's get the guides we made and start the generation using `process_map`, which will create multiple workers to generate the new data in parallel and more efficiently."
      ],
      "metadata": {
        "id": "EWFGZsiZjeVC"
      }
    },
    {
      "cell_type": "code",
      "source": [
        "guides = []\n",
        "for pick in range(1, 5):\n",
        "    jsonl_file_path = f\"./guide_{pick}.txt\"\n",
        "\n",
        "    with open(jsonl_file_path, \"r\") as f:\n",
        "        guide = f.read()\n",
        "        guides.append(guide)\n",
        "\n",
        "data_path = \"./news.jsonl\"\n",
        "with open(data_path, \"r\") as f:\n",
        "    lines = f.readlines()\n",
        "    lines = [(line, systems_variations, guides) for line in lines]\n",
        "\n",
        "    results = process_map(process_critique, lines, max_workers=20, chunksize=1)\n",
        "\n",
        "with open(\"./generated_news_critiques.jsonl\", \"w\") as f:\n",
        "    for result in results:\n",
        "        f.write(result + \"\\n\")"
      ],
      "metadata": {
        "id": "YP2HxueGE3mi",
        "colab": {
          "base_uri": "https://localhost:8080/",
          "height": 49,
          "referenced_widgets": [
            "d22cd4eaee0e40adbedc86b0f07d9b1e",
            "d25d7bb2c9e54f0c8e20fc22c9fcc4e9",
            "45f507bb3b684a1ea7950064303a676f",
            "6220e005f53f4375955faf2bd86a65d0",
            "927d7590c79849f1b50306ba5965416e",
            "c853c8d54e7d4c64bfd7638a5cc8e7f1",
            "bcad9e79b1764762b347f2f5d39f3eae",
            "af5b5a30e4c34496ab41895df8ff23bf",
            "b0bb9fe64df1478b989c0e41f5adaee2",
            "d6706695f1b34863b001453665bf44c5",
            "07477804b50d4addadf74a274979eeee"
          ]
        },
        "outputId": "ab33a222-5549-431c-9b36-122af15b53a2"
      },
      "execution_count": null,
      "outputs": [
        {
          "output_type": "display_data",
          "data": {
            "text/plain": [
              "  0%|          | 0/100 [00:00<?, ?it/s]"
            ],
            "application/vnd.jupyter.widget-view+json": {
              "version_major": 2,
              "version_minor": 0,
              "model_id": "d22cd4eaee0e40adbedc86b0f07d9b1e"
            }
          },
          "metadata": {}
        }
      ]
    },
    {
      "cell_type": "markdown",
      "source": [
        "Perfect! Critiques generated, now it's time to refine and rewrite our articles using the feedback!"
      ],
      "metadata": {
        "id": "C9zJIJKyjq15"
      }
    },
    {
      "cell_type": "code",
      "source": [
        "def process_refined_news(args):\n",
        "    line, system, instruction = args\n",
        "    record = json.loads(line)\n",
        "\n",
        "    news_article = record.get(\"news\")\n",
        "    critique= record.get(\"critique\")\n",
        "    status = record.get(\"status\")\n",
        "\n",
        "    time.sleep(1)\n",
        "\n",
        "    try:\n",
        "      if status == \"SUCCESS\":\n",
        "\n",
        "        answer = CLIENT.chat(\n",
        "            model=\"mistral-large-latest\",\n",
        "            messages= [\n",
        "                {\"role\": \"system\", \"content\": system},\n",
        "                {\"role\": \"user\", \"content\": news_article},\n",
        "                {\"role\": \"assistant\", \"content\": critique},\n",
        "                {\"role\": \"user\", \"content\": instruction},\n",
        "            ],\n",
        "            temperature=0.2,\n",
        "            max_tokens=2048\n",
        "        )\n",
        "        new_news = answer.choices[0].message.content\n",
        "\n",
        "        result = json.dumps({\"news\": news_article, \"critique\": critique, \"refined_news\": new_news, \"status\": \"SUCCESS\"})\n",
        "\n",
        "      else:\n",
        "        result = json.dumps({\"news\": news_article, \"critique\": critique, \"refined_news\": critique, \"status\": \"ERROR\"})\n",
        "    except Exception as e:\n",
        "        print(e)\n",
        "        result = json.dumps({\"news\": news_article, \"critique\": critique, \"refined_news\": str(e), \"status\": \"ERROR\"})\n",
        "\n",
        "    random_hash = secrets.token_hex(4)\n",
        "\n",
        "    with open(f\"./data/refined_news_{random_hash}.jsonl\", \"w\") as f:\n",
        "        f.write(result)\n",
        "\n",
        "    return result\n"
      ],
      "metadata": {
        "id": "Gnorrwo_5N-C"
      },
      "execution_count": null,
      "outputs": []
    },
    {
      "cell_type": "markdown",
      "source": [
        "We will replace our multiple system variations with a generalized one to give it context, but the key part of our second step is our instruction to rewrite the article with the provided feedback. This instruction might require a lot of changes depending on your requirements!"
      ],
      "metadata": {
        "id": "BWxHkkhqj2B1"
      }
    },
    {
      "cell_type": "code",
      "source": [
        "system = \"Polish and restructure the news articles to align them with the high standards of clarity, accuracy, and elegance set by the Economist style guide. You are presented with a news article. Identify the ten (or fewer) most significant stylistic concerns and provide examples of how they can be enhanced.\"\n",
        "\n",
        "instruction = \"\"\"\n",
        "Now, I want you to incorporate the feedback and critiques into the news article and respond with the enhanced version, focusing solely on stylistic improvements without altering the content.\n",
        "You must provide the entire article enhanced.\n",
        "Do not make ANY comments, only provide the new article improved.\n",
        "Do not tell me what you changed, only provide the new article taking into consideration the feedback you provided.\n",
        "The new article needs to have all the content of the original article but with the feedback into account.\n",
        "\"\"\"\n",
        "\n",
        "data_path = \"./generated_news_critiques.jsonl\"\n",
        "with open(data_path, \"r\") as f:\n",
        "    lines = f.readlines()\n",
        "    lines = [(line, system, instruction) for line in lines]\n",
        "\n",
        "    results = process_map(process_refined_news, lines, max_workers=20, chunksize=1)\n",
        "\n",
        "with open(\"./generated_refined_news.jsonl\", \"w\") as f:\n",
        "    for result in results:\n",
        "        f.write(result + \"\\n\")\n",
        "\n"
      ],
      "metadata": {
        "id": "synIa0C65Qn9",
        "colab": {
          "base_uri": "https://localhost:8080/",
          "height": 49,
          "referenced_widgets": [
            "e334bd7709a24ea2883245321b763f8a",
            "2ec04f1343b84767b44d24f6bdb299d4",
            "1e8013ede23e40448fcad827d35674fb",
            "9cb7347922834bbdb11ebe30b86bbedd",
            "c523cda4fb2f4a1fa9a8436c13ff1d7f",
            "6c1a6ac980ef453f9fad435f5ff1d3f7",
            "037dd6632d8b44479351883e484b110a",
            "ed0b4b21092e4d93af239ea329018d0e",
            "4e64a149b4ac4dfb9beeb339e4f31cb7",
            "c5d065c6dada41238b5e125364418109",
            "db922744e00a44dfae499bbdfea4535f"
          ]
        },
        "outputId": "78e3086e-f4fe-4dce-80cc-347b072b4912"
      },
      "execution_count": null,
      "outputs": [
        {
          "output_type": "display_data",
          "data": {
            "text/plain": [
              "  0%|          | 0/100 [00:00<?, ?it/s]"
            ],
            "application/vnd.jupyter.widget-view+json": {
              "version_major": 2,
              "version_minor": 0,
              "model_id": "e334bd7709a24ea2883245321b763f8a"
            }
          },
          "metadata": {}
        }
      ]
    },
    {
      "cell_type": "markdown",
      "source": [
        "Articles generated! Let's take a look at them."
      ],
      "metadata": {
        "id": "q6ouOPB5kFj-"
      }
    },
    {
      "cell_type": "code",
      "source": [
        "from pprint import pprint\n",
        "\n",
        "with open(\"./generated_refined_news.jsonl\", \"r\") as f:\n",
        "  l = json.loads(f.readlines()[0])\n",
        "\n",
        "pprint(l)"
      ],
      "metadata": {
        "colab": {
          "base_uri": "https://localhost:8080/"
        },
        "id": "dF6_ZhHmo-jQ",
        "outputId": "a578dedf-b20a-40c4-b34a-661bc5e28540"
      },
      "execution_count": null,
      "outputs": [
        {
          "output_type": "stream",
          "name": "stdout",
          "text": [
            "{'critique': '1. Inconsistent use of tense: \"She was shot... then once in the '\n",
            "             'head\" should be \"She was shot... and finally once in the head.\"\\n'\n",
            "             '2. Informal language: \"point blank range\" should be \"close '\n",
            "             'range.\"\\n'\n",
            "             '3. Unnecessary details: \"For several minutes, her body lay '\n",
            "             'undetected\" can be omitted.\\n'\n",
            "             '4. Inconsistent capitalization: \"Justice has never been done\" '\n",
            "             'should be \"Justice has never been done.\"\\n'\n",
            "             '5. Inconsistent punctuation: \"JUST WATCHEDUS suspends talks with '\n",
            "             'Russia over Syria\" should have a comma after \"JUST WATCHED.\"\\n'\n",
            "             '6. Incorrect use of quotation marks: \"Absolutely no criminal '\n",
            "             'investigation is taking place to find the person who ordered the '\n",
            "             'killing,\" says Dmitry Muratov\" should have a comma after '\n",
            "             '\"killing.\"\\n'\n",
            "             '7. Inconsistent use of British English: \"accused of gross '\n",
            "             'abuses\" should be \"accused of grave abuses.\"\\n'\n",
            "             '8. Inconsistent capitalization: \"Chechen president\" should be '\n",
            "             '\"Chechen President.\"\\n'\n",
            "             '9. Inconsistent use of British English: \"torture and forced '\n",
            "             'disappearances\" should be \"torture and enforced '\n",
            "             'disappearances.\"\\n'\n",
            "             '10. Inconsistent capitalization: \"leading Russian opposition '\n",
            "             'figure\" should be \"leading Russian opposition figure.\"\\n'\n",
            "             '11. Incorrect use of quotation marks: \"If the court finds '\n",
            "             'Dadayev guilty then by killing a person he has committed a grave '\n",
            "             'crime,\" Kadyrov wrote on his Instagram page\" should have a '\n",
            "             'period after \"page.\"\\n'\n",
            "             '12. Inconsistent use of British English: \"grave crime\" should be '\n",
            "             '\"serious crime.\"\\n'\n",
            "             '13. Inconsistent capitalization: \"One inch from Vladimir Putin\" '\n",
            "             'should be \"One inch from Vladimir Putin.\"\\n'\n",
            "             '14. Inconsistent use of tense: \"But her colleagues say there is '\n",
            "             'little hope those who ordered her killing... will be held to '\n",
            "             'account\" should be \"But her colleagues say there is little hope '\n",
            "             'that those who ordered her killing... will be held to account.\"\\n'\n",
            "             '15. Inconsistent use of British English: \"killers\" should be '\n",
            "             '\"assassins.\"\\n'\n",
            "             '16. Inconsistent use of British English: \"organize the killings\" '\n",
            "             'should be \"organise the killings.\"\\n'\n",
            "             '17. Inconsistent use of British English: \"immunity\" should be '\n",
            "             '\"impunity.\"\\n'\n",
            "             '18. Inconsistent use of punctuation: \"The state should take '\n",
            "             'responsibility and do everything it can to find who ordered this '\n",
            "             'huge political killing,\" he told CNN\" should have a comma after '\n",
            "             '\"killing.\"\\n'\n",
            "             '19. Inconsistent use of punctuation: \"The couple were on a '\n",
            "             'bridge near the walls of the Kremlin when the assassin pulled up '\n",
            "             'in a car and opened fired\" should have a comma after \"Kremlin.\"\\n'\n",
            "             '20. Incorrect use of British English: \"opened fired\" should be '\n",
            "             '\"opened fire.\"',\n",
            " 'news': 'Moscow, Russia (CNN)She was shot twice in the chest, once in the '\n",
            "         'shoulder, then once in the head at point blank range -- a classic '\n",
            "         'sign of a professional hit. Anna PolitkovskayaForensic teams who '\n",
            "         \"examined the body of Anna Politkovskaya, one of Russia's most \"\n",
            "         'prominent journalists and Kremlin critics, say the first two shots '\n",
            "         'struck near her heart and were fatal. READ: Why Anna Politkovskaya '\n",
            "         'still inspiresThe assassin, who had been waiting for her return from '\n",
            "         'a shopping trip, used a pistol with a silencer attached.For several '\n",
            "         'minutes, her body lay undetected, slumped in the elevator of her '\n",
            "         'Moscow apartment block before neighbors raised the alarm. Read '\n",
            "         'MoreJustice has never been doneJUST WATCHEDUS suspends talks with '\n",
            "         'Russia over SyriaReplayMore Videos ...MUST WATCHUS suspends talks '\n",
            "         'with Russia over Syria 01:51In the ten years since this brutal '\n",
            "         'murder, linked to her candid and fearless reporting of the conflict '\n",
            "         'and human rights abuses in Chechnya, there have been numerous '\n",
            "         'arrests, two trials and five convictions, including of three Chechen '\n",
            "         'brothers. But former colleagues say justice has never really been '\n",
            "         'done.\"Absolutely no criminal investigation is taking place to find '\n",
            "         'the person who ordered the killing,\" says Dmitry Muratov, editor of '\n",
            "         'Novaya Gazeta, the independent Russian-language newspaper where '\n",
            "         'Politkovskaya was a investigative reporter.\"The state should take '\n",
            "         'responsibility and do everything it can to find who ordered this '\n",
            "         'huge political killing,\" he told CNN.But the Kremlin -- which denies '\n",
            "         'any connection with the killing -- has a poor record when it comes '\n",
            "         'to solving political murders, especially when investigations point '\n",
            "         'to a Chechen connection. Accused of gross abusesJUST WATCHEDUS: '\n",
            "         'Russia ships new anti-missile system into Syria ReplayMore Videos '\n",
            "         '...MUST WATCHUS: Russia ships new anti-missile system into Syria  '\n",
            "         \"00:54Chechnya lies in Russia's troubled Caucasus region, and was \"\n",
            "         'ravaged by two brutal wars in the 1990s between government forces '\n",
            "         \"and separatist rebels.It's led by Ramzan Kadyrov, appointed Chechen \"\n",
            "         'president by the Kremlin in 2007 to control the republic.Human '\n",
            "         'Rights groups accuse security forces under his control of gross '\n",
            "         'abuses, including torture and forced disappearances. And now another '\n",
            "         'trial is putting the spotlight back on Chechnya. In a courthouse in '\n",
            "         'central Moscow five Chechen men stand accused of accepting cash to '\n",
            "         \"kill a leading Russian opposition figure in 2014.'True Russian \"\n",
            "         \"patriot'JUST WATCHEDMH17 report: plane downed by Russian-made \"\n",
            "         'missileReplayMore Videos ...MUST WATCHMH17 report: plane downed by '\n",
            "         'Russian-made missile 02:50Boris Nemtsov, also a persistent critic of '\n",
            "         'the Russian President, Vladimir Putin, was walking home late at '\n",
            "         'night from a restaurant with his Ukrainian girlfriend when he was '\n",
            "         'shot four times in the back.The couple were on a bridge near the '\n",
            "         'walls of the Kremlin when the assassin pulled up in a car and opened '\n",
            "         'fired.Police say the alleged trigger man, now on trial, was Zaur '\n",
            "         'Dadayev, a former member of an elite Chechen military unit, loyal to '\n",
            "         'Kadyrov and under his command.After his arrest, the Chechen leader '\n",
            "         'spoke strongly in Dadayev\\'s defence, calling him \"a true Russian '\n",
            "         'patriot.\"\"If the court finds Dadayev guilty then by killing a person '\n",
            "         'he has committed a grave crime,\" Kadyrov wrote on his Instagram '\n",
            "         'page.\"But I want to note that he could not do anything that was '\n",
            "         'against Russia, for which he has risked his own life for many '\n",
            "         'years,\" the Chechen leader added.Shrine to PolitkovskayaJUST '\n",
            "         'WATCHEDOne inch from Vladimir Putin ReplayMore Videos ...MUST '\n",
            "         'WATCHOne inch from Vladimir Putin  02:13At the Moscow headquarters '\n",
            "         \"of Novaya Gazeta, Anna Politkovskaya's old work space is untouched, \"\n",
            "         'left as a shrine to the murdered journalist.A portrait hangs on the '\n",
            "         'wall and fresh flowers adorn her desk.But her colleagues say there '\n",
            "         'is little hope those who ordered her killing, or those of Boris '\n",
            "         'Nemtsov, will be held to account.\"We can catch the killers, we can '\n",
            "         'catch the people who organize the killings,\" says Dmitry '\n",
            "         'Muratov.\"But for the Russian justice system, the people who order '\n",
            "         'them are inaccessible or they have immunity,\" he added.',\n",
            " 'refined_news': 'Anna Politkovskaya, a prominent Russian journalist and '\n",
            "                 'critic of the Kremlin, was brutally murdered ten years ago. '\n",
            "                 'She was shot twice in the chest, once in the shoulder, and '\n",
            "                 'once in the head at point-blank range. The first two shots '\n",
            "                 'were fatal, and her body lay undetected in the elevator of '\n",
            "                 'her Moscow apartment block for several minutes before '\n",
            "                 'neighbors raised the alarm.\\n'\n",
            "                 '\\n'\n",
            "                 'Despite numerous arrests, two trials, and five convictions, '\n",
            "                 'including three Chechen brothers, justice has never been '\n",
            "                 'done. Dmitry Muratov, editor of Novaya Gazeta, where '\n",
            "                 'Politkovskaya was an investigative reporter, says that no '\n",
            "                 'criminal investigation is taking place to find the person '\n",
            "                 'who ordered the killing. The state should take '\n",
            "                 'responsibility and do everything it can to find who ordered '\n",
            "                 'this huge political killing.\\n'\n",
            "                 '\\n'\n",
            "                 'The Kremlin, which denies any connection with the killing, '\n",
            "                 'has a poor record of solving political murders, especially '\n",
            "                 'when investigations point to a Chechen connection. Chechnya '\n",
            "                 \"lies in Russia's troubled Caucasus region and was ravaged by \"\n",
            "                 'two brutal wars in the 1990s between government forces and '\n",
            "                 'separatist rebels. It is led by Ramzan Kadyrov, appointed '\n",
            "                 'Chechen president by the Kremlin in 2007 to control the '\n",
            "                 'republic. Human rights groups accuse security forces under '\n",
            "                 'his control of gross abuses, including torture and forced '\n",
            "                 'disappearances.\\n'\n",
            "                 '\\n'\n",
            "                 'Another trial is putting the spotlight back on Chechnya. '\n",
            "                 'Five Chechen men stand accused of accepting cash to kill '\n",
            "                 'Boris Nemtsov, a leading Russian opposition figure, in 2014. '\n",
            "                 'Nemtsov was walking home late at night from a restaurant '\n",
            "                 'with his Ukrainian girlfriend when he was shot four times in '\n",
            "                 'the back. The couple were on a bridge near the walls of the '\n",
            "                 'Kremlin when the assassin pulled up in a car and opened '\n",
            "                 'fire.\\n'\n",
            "                 '\\n'\n",
            "                 'Police say the alleged trigger man, now on trial, was Zaur '\n",
            "                 'Dadayev, a former member of an elite Chechen military unit '\n",
            "                 'loyal to Kadyrov and under his command. After his arrest, '\n",
            "                 \"the Chechen leader spoke strongly in Dadayev's defense, \"\n",
            "                 'calling him \"a true Russian patriot.\" If the court finds '\n",
            "                 'Dadayev guilty, then by killing a person, he has committed a '\n",
            "                 'grave crime. But I want to note that he could not do '\n",
            "                 'anything that was against Russia, for which he has risked '\n",
            "                 'his own life for many years.\\n'\n",
            "                 '\\n'\n",
            "                 \"At the Moscow headquarters of Novaya Gazeta, Politkovskaya's \"\n",
            "                 'old work-space is untouched, left as a shrine to the '\n",
            "                 'murdered journalist. A portrait hangs on the wall, and fresh '\n",
            "                 'flowers adorn her desk. But her colleagues say there is '\n",
            "                 'little hope that those who ordered her killing, or those of '\n",
            "                 'Boris Nemtsov, will be held to account. We can catch the '\n",
            "                 'killers, we can catch the people who organize the killings, '\n",
            "                 'says Muratov. But for the Russian justice system, the people '\n",
            "                 'who order them are inaccessible or they have immunity.\\n'\n",
            "                 '\\n'\n",
            "                 'Enhanced version:\\n'\n",
            "                 '\\n'\n",
            "                 'Anna Politkovskaya, a renowned Russian journalist and '\n",
            "                 'Kremlin critic, was brutally murdered a decade ago. She was '\n",
            "                 'shot twice in the chest, once in the shoulder, and once in '\n",
            "                 'the head at close range. The first two shots were fatal, and '\n",
            "                 'her body lay undetected in the elevator of her Moscow '\n",
            "                 'apartment block for several minutes before neighbors raised '\n",
            "                 'the alarm.\\n'\n",
            "                 '\\n'\n",
            "                 'Despite numerous arrests, two trials, and five convictions, '\n",
            "                 'including three Chechen brothers, justice has yet to be '\n",
            "                 'served. Dmitry Muratov, editor of Novaya Gazeta, where '\n",
            "                 'Politkovskaya was an investigative reporter, says that no '\n",
            "                 'criminal investigation is taking place to find the person '\n",
            "                 'who ordered the killing. The state should take '\n",
            "                 'responsibility and do everything it can to find who ordered '\n",
            "                 'this political assassination.\\n'\n",
            "                 '\\n'\n",
            "                 'The Kremlin, which denies any connection with the killing, '\n",
            "                 'has a poor record of solving political murders, especially '\n",
            "                 'when investigations point to a Chechen connection. Chechnya '\n",
            "                 \"lies in Russia's troubled Caucasus region and was ravaged by \"\n",
            "                 'two brutal wars in the 1990s between government forces and '\n",
            "                 'separatist rebels. It is led by Ramzan Kadyrov, appointed '\n",
            "                 'Chechen president by the Kremlin in 2007 to control the '\n",
            "                 'republic. Human rights groups accuse security forces under '\n",
            "                 'his control of gross abuses, including torture and enforced '\n",
            "                 'disappearances.\\n'\n",
            "                 '\\n'\n",
            "                 'Another trial is putting the spotlight back on Chechnya. '\n",
            "                 'Five Chechen men stand accused of accepting cash to kill '\n",
            "                 'Boris Nemtsov, a leading Russian opposition figure, in 2014. '\n",
            "                 'Nemtsov was walking home late at night from a restaurant '\n",
            "                 'with his Ukrainian girlfriend when he was shot four times in '\n",
            "                 'the back. The couple were on a bridge near the walls of the '\n",
            "                 'Kremlin when the assassin pulled up in a car and opened '\n",
            "                 'fire.\\n'\n",
            "                 '\\n'\n",
            "                 'Police say the alleged trigger man, now on trial, was Zaur '\n",
            "                 'Dadayev, a former member of an elite Chechen military unit '\n",
            "                 'loyal to Kadyrov and under his command. After his arrest, '\n",
            "                 \"the Chechen leader spoke strongly in Dadayev's defense, \"\n",
            "                 'calling him \"a true Russian patriot.\" If the court finds '\n",
            "                 'Dadayev guilty, then by killing a person, he has committed a '\n",
            "                 'serious crime. But I want to note that he could not do '\n",
            "                 'anything that was against Russia, for which he has risked '\n",
            "                 'his own life for many years.\\n'\n",
            "                 '\\n'\n",
            "                 \"At the Moscow headquarters of Novaya Gazeta, Politkovskaya's \"\n",
            "                 'old work-space is untouched, left as a shrine to the '\n",
            "                 'murdered journalist. A portrait hangs on the wall, and fresh '\n",
            "                 'flowers adorn her desk. But her colleagues say there is '\n",
            "                 'little hope that those who ordered her killing, or those of '\n",
            "                 'Boris Nemtsov, will be held to account. We can catch the '\n",
            "                 'assassins, we can catch the people who organize the '\n",
            "                 'killings, says Muratov. But for the Russian justice system, '\n",
            "                 'the people who order them are inaccessible or they have '\n",
            "                 'impunity.',\n",
            " 'status': 'SUCCESS'}\n"
          ]
        }
      ]
    }
  ]
}